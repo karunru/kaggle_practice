{
 "cells": [
  {
   "cell_type": "code",
   "execution_count": 14,
   "id": "7870ca3c",
   "metadata": {},
   "outputs": [],
   "source": [
    "import torch\n",
    "import numpy as np\n",
    "import cudf\n",
    "from tqdm import tqdm\n",
    "from iterstrat.ml_stratifiers import MultilabelStratifiedKFold"
   ]
  },
  {
   "cell_type": "code",
   "execution_count": 2,
   "id": "97ef11f5",
   "metadata": {},
   "outputs": [
    {
     "data": {
      "text/plain": [
       "(142119, 2)"
      ]
     },
     "execution_count": 2,
     "metadata": {},
     "output_type": "execute_result"
    }
   ],
   "source": [
    "df = cudf.read_csv(\"../dataset/imet/train.csv\")\n",
    "df.shape"
   ]
  },
  {
   "cell_type": "code",
   "execution_count": 3,
   "id": "a0fa046d",
   "metadata": {},
   "outputs": [
    {
     "data": {
      "text/html": [
       "<div>\n",
       "<style scoped>\n",
       "    .dataframe tbody tr th:only-of-type {\n",
       "        vertical-align: middle;\n",
       "    }\n",
       "\n",
       "    .dataframe tbody tr th {\n",
       "        vertical-align: top;\n",
       "    }\n",
       "\n",
       "    .dataframe thead th {\n",
       "        text-align: right;\n",
       "    }\n",
       "</style>\n",
       "<table border=\"1\" class=\"dataframe\">\n",
       "  <thead>\n",
       "    <tr style=\"text-align: right;\">\n",
       "      <th></th>\n",
       "      <th>id</th>\n",
       "      <th>attribute_ids</th>\n",
       "    </tr>\n",
       "  </thead>\n",
       "  <tbody>\n",
       "    <tr>\n",
       "      <th>0</th>\n",
       "      <td>000040d66f14ced4cdd18cd95d91800f</td>\n",
       "      <td>448 2429 782</td>\n",
       "    </tr>\n",
       "    <tr>\n",
       "      <th>1</th>\n",
       "      <td>0000ef13e37ef70412166725ec034a8a</td>\n",
       "      <td>2997 3231 2730 3294 3099 2017 784</td>\n",
       "    </tr>\n",
       "    <tr>\n",
       "      <th>2</th>\n",
       "      <td>0001eeb4a06e8daa7c6951bcd124c3c7</td>\n",
       "      <td>2436 1715 23</td>\n",
       "    </tr>\n",
       "    <tr>\n",
       "      <th>3</th>\n",
       "      <td>000226398d224de78b191e6db45fd94e</td>\n",
       "      <td>2997 3433 448 782</td>\n",
       "    </tr>\n",
       "    <tr>\n",
       "      <th>4</th>\n",
       "      <td>00029c3b0171158d63b1bbf803a7d750</td>\n",
       "      <td>3465 3322 3170 1553 781</td>\n",
       "    </tr>\n",
       "  </tbody>\n",
       "</table>\n",
       "</div>"
      ],
      "text/plain": [
       "                                 id                      attribute_ids\n",
       "0  000040d66f14ced4cdd18cd95d91800f                       448 2429 782\n",
       "1  0000ef13e37ef70412166725ec034a8a  2997 3231 2730 3294 3099 2017 784\n",
       "2  0001eeb4a06e8daa7c6951bcd124c3c7                       2436 1715 23\n",
       "3  000226398d224de78b191e6db45fd94e                  2997 3433 448 782\n",
       "4  00029c3b0171158d63b1bbf803a7d750            3465 3322 3170 1553 781"
      ]
     },
     "execution_count": 3,
     "metadata": {},
     "output_type": "execute_result"
    }
   ],
   "source": [
    "df.head()"
   ]
  },
  {
   "cell_type": "code",
   "execution_count": 4,
   "id": "bf2173d4",
   "metadata": {},
   "outputs": [],
   "source": [
    "N_CLASSES = 3474"
   ]
  },
  {
   "cell_type": "code",
   "execution_count": 5,
   "id": "65293024",
   "metadata": {},
   "outputs": [],
   "source": [
    "target = torch.zeros(len(df), N_CLASSES)"
   ]
  },
  {
   "cell_type": "code",
   "execution_count": 6,
   "id": "716c2a25",
   "metadata": {},
   "outputs": [
    {
     "data": {
      "text/plain": [
       "torch.Size([142119, 3474])"
      ]
     },
     "execution_count": 6,
     "metadata": {},
     "output_type": "execute_result"
    }
   ],
   "source": [
    "target.shape"
   ]
  },
  {
   "cell_type": "code",
   "execution_count": 7,
   "id": "c78fae3e",
   "metadata": {},
   "outputs": [
    {
     "data": {
      "text/plain": [
       "['448', '2429', '782']"
      ]
     },
     "execution_count": 7,
     "metadata": {},
     "output_type": "execute_result"
    }
   ],
   "source": [
    "df.iloc[0, 1].split()"
   ]
  },
  {
   "cell_type": "code",
   "execution_count": 8,
   "id": "1f008462",
   "metadata": {},
   "outputs": [
    {
     "name": "stderr",
     "output_type": "stream",
     "text": [
      "100%|██████████| 142119/142119 [03:59<00:00, 593.37it/s]\n"
     ]
    }
   ],
   "source": [
    "for i in tqdm(range(len(df))):\n",
    "    for attribute_id in df.iloc[i, 1].split():\n",
    "        target[i, int(attribute_id)] = 1"
   ]
  },
  {
   "cell_type": "code",
   "execution_count": 9,
   "id": "247680b4",
   "metadata": {},
   "outputs": [
    {
     "data": {
      "text/plain": [
       "tensor([ 9.,  3., 10.,  ...,  3., 30., 34.])"
      ]
     },
     "execution_count": 9,
     "metadata": {},
     "output_type": "execute_result"
    }
   ],
   "source": [
    "target.sum(0)"
   ]
  },
  {
   "cell_type": "code",
   "execution_count": 10,
   "id": "c49b207a",
   "metadata": {},
   "outputs": [],
   "source": [
    "target = target.to('cpu').detach().numpy()"
   ]
  },
  {
   "cell_type": "code",
   "execution_count": 11,
   "id": "f6b759ab",
   "metadata": {},
   "outputs": [
    {
     "data": {
      "text/plain": [
       "array([[0., 0., 0., ..., 0., 0., 0.],\n",
       "       [0., 0., 0., ..., 0., 0., 0.],\n",
       "       [0., 0., 0., ..., 0., 0., 0.],\n",
       "       ...,\n",
       "       [0., 0., 0., ..., 0., 0., 0.],\n",
       "       [0., 0., 0., ..., 0., 0., 0.],\n",
       "       [0., 0., 0., ..., 0., 0., 0.]], dtype=float32)"
      ]
     },
     "execution_count": 11,
     "metadata": {},
     "output_type": "execute_result"
    }
   ],
   "source": [
    "target"
   ]
  },
  {
   "cell_type": "code",
   "execution_count": 12,
   "id": "d647d0be",
   "metadata": {},
   "outputs": [],
   "source": [
    "X = df[\"id\"].to_array()"
   ]
  },
  {
   "cell_type": "code",
   "execution_count": 13,
   "id": "a541104d",
   "metadata": {},
   "outputs": [
    {
     "data": {
      "text/plain": [
       "array(['000040d66f14ced4cdd18cd95d91800f',\n",
       "       '0000ef13e37ef70412166725ec034a8a',\n",
       "       '0001eeb4a06e8daa7c6951bcd124c3c7', ...,\n",
       "       'fffdde4325edb076dccea37978c1378a',\n",
       "       'fffe25dccc93a5e9e12f26d494dae26f',\n",
       "       'fffe66c4a175c96065551cebacb7636f'], dtype=object)"
      ]
     },
     "execution_count": 13,
     "metadata": {},
     "output_type": "execute_result"
    }
   ],
   "source": [
    "X"
   ]
  },
  {
   "cell_type": "code",
   "execution_count": 15,
   "id": "f9786521",
   "metadata": {},
   "outputs": [
    {
     "name": "stderr",
     "output_type": "stream",
     "text": [
      "/home/karunru/.pyenv/versions/miniconda3-4.7.12/envs/rapids-0.19/lib/python3.8/site-packages/sklearn/utils/validation.py:70: FutureWarning: Pass shuffle=True, random_state=1031 as keyword args. From version 1.0 (renaming of 0.25) passing these as positional arguments will result in an error\n",
      "  warnings.warn(f\"Pass {args_msg} as keyword args. From version \"\n"
     ]
    }
   ],
   "source": [
    "mskf = MultilabelStratifiedKFold(\n",
    "    n_splits=5, shuffle=True, random_state=1031\n",
    ")"
   ]
  },
  {
   "cell_type": "code",
   "execution_count": 17,
   "id": "ca970636",
   "metadata": {},
   "outputs": [
    {
     "name": "stderr",
     "output_type": "stream",
     "text": [
      "5it [15:30, 186.11s/it]"
     ]
    },
    {
     "name": "stdout",
     "output_type": "stream",
     "text": [
      "fold 0\n",
      "fold 1\n",
      "fold 2\n",
      "fold 3\n",
      "fold 4\n"
     ]
    },
    {
     "name": "stderr",
     "output_type": "stream",
     "text": [
      "\n"
     ]
    }
   ],
   "source": [
    "for fold, (train_idx, val_idx) in enumerate(tqdm(mskf.split(X, target))):\n",
    "    np.save(f\"train_idx_fold{fold}.npy\", train_idx)\n",
    "    np.save(f\"val_idx_fold{fold}.npy\", val_idx)\n",
    "    print(f\"fold {fold}\")"
   ]
  },
  {
   "cell_type": "code",
   "execution_count": null,
   "id": "09329fac",
   "metadata": {},
   "outputs": [],
   "source": []
  }
 ],
 "metadata": {
  "kernelspec": {
   "display_name": "Python 3",
   "language": "python",
   "name": "python3"
  },
  "language_info": {
   "codemirror_mode": {
    "name": "ipython",
    "version": 3
   },
   "file_extension": ".py",
   "mimetype": "text/x-python",
   "name": "python",
   "nbconvert_exporter": "python",
   "pygments_lexer": "ipython3",
   "version": "3.8.8"
  }
 },
 "nbformat": 4,
 "nbformat_minor": 5
}
