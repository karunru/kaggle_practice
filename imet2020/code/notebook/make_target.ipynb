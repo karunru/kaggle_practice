{
 "cells": [
  {
   "cell_type": "code",
   "execution_count": 20,
   "id": "7870ca3c",
   "metadata": {},
   "outputs": [],
   "source": [
    "import torch\n",
    "import numpy as np\n",
    "import cudf\n",
    "from tqdm import tqdm"
   ]
  },
  {
   "cell_type": "code",
   "execution_count": 2,
   "id": "97ef11f5",
   "metadata": {},
   "outputs": [
    {
     "data": {
      "text/plain": [
       "(142119, 2)"
      ]
     },
     "execution_count": 2,
     "metadata": {},
     "output_type": "execute_result"
    }
   ],
   "source": [
    "df = cudf.read_csv(\"../dataset/imet/train.csv\")\n",
    "df.shape"
   ]
  },
  {
   "cell_type": "code",
   "execution_count": 3,
   "id": "a0fa046d",
   "metadata": {},
   "outputs": [
    {
     "data": {
      "text/html": [
       "<div>\n",
       "<style scoped>\n",
       "    .dataframe tbody tr th:only-of-type {\n",
       "        vertical-align: middle;\n",
       "    }\n",
       "\n",
       "    .dataframe tbody tr th {\n",
       "        vertical-align: top;\n",
       "    }\n",
       "\n",
       "    .dataframe thead th {\n",
       "        text-align: right;\n",
       "    }\n",
       "</style>\n",
       "<table border=\"1\" class=\"dataframe\">\n",
       "  <thead>\n",
       "    <tr style=\"text-align: right;\">\n",
       "      <th></th>\n",
       "      <th>id</th>\n",
       "      <th>attribute_ids</th>\n",
       "    </tr>\n",
       "  </thead>\n",
       "  <tbody>\n",
       "    <tr>\n",
       "      <th>0</th>\n",
       "      <td>000040d66f14ced4cdd18cd95d91800f</td>\n",
       "      <td>448 2429 782</td>\n",
       "    </tr>\n",
       "    <tr>\n",
       "      <th>1</th>\n",
       "      <td>0000ef13e37ef70412166725ec034a8a</td>\n",
       "      <td>2997 3231 2730 3294 3099 2017 784</td>\n",
       "    </tr>\n",
       "    <tr>\n",
       "      <th>2</th>\n",
       "      <td>0001eeb4a06e8daa7c6951bcd124c3c7</td>\n",
       "      <td>2436 1715 23</td>\n",
       "    </tr>\n",
       "    <tr>\n",
       "      <th>3</th>\n",
       "      <td>000226398d224de78b191e6db45fd94e</td>\n",
       "      <td>2997 3433 448 782</td>\n",
       "    </tr>\n",
       "    <tr>\n",
       "      <th>4</th>\n",
       "      <td>00029c3b0171158d63b1bbf803a7d750</td>\n",
       "      <td>3465 3322 3170 1553 781</td>\n",
       "    </tr>\n",
       "  </tbody>\n",
       "</table>\n",
       "</div>"
      ],
      "text/plain": [
       "                                 id                      attribute_ids\n",
       "0  000040d66f14ced4cdd18cd95d91800f                       448 2429 782\n",
       "1  0000ef13e37ef70412166725ec034a8a  2997 3231 2730 3294 3099 2017 784\n",
       "2  0001eeb4a06e8daa7c6951bcd124c3c7                       2436 1715 23\n",
       "3  000226398d224de78b191e6db45fd94e                  2997 3433 448 782\n",
       "4  00029c3b0171158d63b1bbf803a7d750            3465 3322 3170 1553 781"
      ]
     },
     "execution_count": 3,
     "metadata": {},
     "output_type": "execute_result"
    }
   ],
   "source": [
    "df.head()"
   ]
  },
  {
   "cell_type": "code",
   "execution_count": 15,
   "id": "bf2173d4",
   "metadata": {},
   "outputs": [],
   "source": [
    "N_CLASSES = 3474"
   ]
  },
  {
   "cell_type": "code",
   "execution_count": 16,
   "id": "65293024",
   "metadata": {},
   "outputs": [],
   "source": [
    "target = torch.zeros(len(df), N_CLASSES)"
   ]
  },
  {
   "cell_type": "code",
   "execution_count": 17,
   "id": "716c2a25",
   "metadata": {},
   "outputs": [
    {
     "data": {
      "text/plain": [
       "torch.Size([142119, 3474])"
      ]
     },
     "execution_count": 17,
     "metadata": {},
     "output_type": "execute_result"
    }
   ],
   "source": [
    "target.shape"
   ]
  },
  {
   "cell_type": "code",
   "execution_count": 18,
   "id": "c78fae3e",
   "metadata": {},
   "outputs": [
    {
     "data": {
      "text/plain": [
       "['448', '2429', '782']"
      ]
     },
     "execution_count": 18,
     "metadata": {},
     "output_type": "execute_result"
    }
   ],
   "source": [
    "df.iloc[0, 1].split()"
   ]
  },
  {
   "cell_type": "code",
   "execution_count": 21,
   "id": "1f008462",
   "metadata": {},
   "outputs": [
    {
     "name": "stderr",
     "output_type": "stream",
     "text": [
      "100%|██████████| 142119/142119 [04:00<00:00, 591.43it/s]\n"
     ]
    }
   ],
   "source": [
    "for i in tqdm(range(len(df))):\n",
    "    for attribute_id in df.iloc[i, 1].split():\n",
    "        target[i, int(attribute_id)] = 1"
   ]
  },
  {
   "cell_type": "code",
   "execution_count": 26,
   "id": "247680b4",
   "metadata": {},
   "outputs": [
    {
     "data": {
      "text/plain": [
       "tensor([ 9.,  3., 10.,  ...,  3., 30., 34.])"
      ]
     },
     "execution_count": 26,
     "metadata": {},
     "output_type": "execute_result"
    }
   ],
   "source": [
    "target.sum(0)"
   ]
  },
  {
   "cell_type": "code",
   "execution_count": 29,
   "id": "c49b207a",
   "metadata": {},
   "outputs": [
    {
     "data": {
      "text/plain": [
       "array([[0., 0., 0., ..., 0., 0., 0.],\n",
       "       [0., 0., 0., ..., 0., 0., 0.],\n",
       "       [0., 0., 0., ..., 0., 0., 0.],\n",
       "       ...,\n",
       "       [0., 0., 0., ..., 0., 0., 0.],\n",
       "       [0., 0., 0., ..., 0., 0., 0.],\n",
       "       [0., 0., 0., ..., 0., 0., 0.]], dtype=float32)"
      ]
     },
     "execution_count": 29,
     "metadata": {},
     "output_type": "execute_result"
    }
   ],
   "source": [
    "target.to('cpu').detach().numpy()"
   ]
  },
  {
   "cell_type": "code",
   "execution_count": 30,
   "id": "5a6b8e35",
   "metadata": {},
   "outputs": [],
   "source": [
    "np.save(\"../dataset/imet/labels.npy\", target.to('cpu').detach().numpy())"
   ]
  },
  {
   "cell_type": "code",
   "execution_count": null,
   "id": "f6b759ab",
   "metadata": {},
   "outputs": [],
   "source": []
  }
 ],
 "metadata": {
  "kernelspec": {
   "display_name": "Python 3",
   "language": "python",
   "name": "python3"
  },
  "language_info": {
   "codemirror_mode": {
    "name": "ipython",
    "version": 3
   },
   "file_extension": ".py",
   "mimetype": "text/x-python",
   "name": "python",
   "nbconvert_exporter": "python",
   "pygments_lexer": "ipython3",
   "version": "3.8.8"
  }
 },
 "nbformat": 4,
 "nbformat_minor": 5
}
